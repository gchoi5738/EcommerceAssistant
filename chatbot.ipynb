{
 "cells": [
  {
   "cell_type": "markdown",
   "metadata": {},
   "source": [
    "# E-Commerce Chatbot - Basic Implementation\n",
    "\n",
    "This notebook implements a simple chatbot for handling product and order queries."
   ]
  },
  {
   "cell_type": "code",
   "execution_count": null,
   "metadata": {},
   "outputs": [],
   "source": [
    "!pip install langchain"
   ]
  },
  {
   "cell_type": "code",
   "execution_count": 45,
   "metadata": {},
   "outputs": [],
   "source": [
    "import pandas as pd\n",
    "import numpy as np\n",
    "from sentence_transformers import SentenceTransformer\n",
    "from sklearn.metrics.pairwise import cosine_similarity\n",
    "from transformers import AutoModelForCausalLM, AutoTokenizer\n",
    "import torch\n",
    "import requests\n",
    "import nest_asyncio\n",
    "import uvicorn\n",
    "from fastapi import FastAPI\n",
    "from langchain.memory import ConversationSummaryBufferMemory, ConversationBufferMemory\n",
    "import json\n"
   ]
  },
  {
   "cell_type": "code",
   "execution_count": 32,
   "metadata": {},
   "outputs": [],
   "source": [
    "import os\n",
    "os.environ[\"OPENAI_API_KEY\"] = \"sk-proj-xxxx\"\n"
   ]
  },
  {
   "cell_type": "code",
   "execution_count": 4,
   "metadata": {},
   "outputs": [
    {
     "name": "stdout",
     "output_type": "stream",
     "text": [
      "Loaded 5000 products and 51290 orders\n",
      "\n",
      "Product columns: ['main_category', 'title', 'average_rating', 'rating_number', 'features', 'description', 'price', 'store', 'categories', 'details', 'parent_asin']\n",
      "\n",
      "Order columns: ['Order_Date', 'Time', 'Aging', 'Customer_Id', 'Gender', 'Device_Type', 'Customer_Login_type', 'Product_Category', 'Product', 'Sales', 'Quantity', 'Discount', 'Profit', 'Shipping_Cost', 'Order_Priority', 'Payment_method']\n"
     ]
    }
   ],
   "source": [
    "products_df = pd.read_csv('Data/Product_Information_Dataset.csv')\n",
    "orders_df = pd.read_csv('Data/Order_Data_Dataset.csv')\n",
    "\n",
    "products_df = products_df.fillna('')\n",
    "orders_df = orders_df.fillna('')\n",
    "\n",
    "print(f\"Loaded {len(products_df)} products and {len(orders_df)} orders\")\n",
    "print(\"\\nProduct columns:\", products_df.columns.tolist())\n",
    "print(\"\\nOrder columns:\", orders_df.columns.tolist())"
   ]
  },
  {
   "cell_type": "code",
   "execution_count": 56,
   "metadata": {},
   "outputs": [],
   "source": [
    "class BaseLanguageModel:\n",
    "    def __init__(self, model_name: str = \"gpt-4o-mini\"):\n",
    "        self.model = model_name\n",
    "        self.api_key = os.getenv(\"OPENAI_API_KEY\")\n",
    "        \n",
    "    def generate_response(self, prompt: str, functions=None) -> str:\n",
    "        messages = [{\"role\": \"user\", \"content\": prompt}]\n",
    "        \n",
    "        try:\n",
    "            data = {\n",
    "                \"model\": self.model,\n",
    "                \"messages\": messages,\n",
    "                \"temperature\": 0.7\n",
    "            }\n",
    "            \n",
    "            if functions:\n",
    "                data[\"functions\"] = functions\n",
    "                data[\"function_call\"] = \"auto\"\n",
    "                \n",
    "            response = requests.post(\n",
    "                \"https://api.openai.com/v1/chat/completions\",\n",
    "                headers={\n",
    "                    \"Authorization\": f\"Bearer {self.api_key}\",\n",
    "                    \"Content-Type\": \"application/json\"\n",
    "                },\n",
    "                json=data\n",
    "            )\n",
    "            return response.json()\n",
    "        except Exception as e:\n",
    "            return f\"Error generating response: {str(e)}\""
   ]
  },
  {
   "cell_type": "code",
   "execution_count": 77,
   "metadata": {},
   "outputs": [],
   "source": [
    "class EcommerceBot:\n",
    "    def __init__(self, products_df, orders_df):\n",
    "        self.products_df = products_df\n",
    "        self.orders_df = orders_df\n",
    "        self.embedding_model = SentenceTransformer('all-MiniLM-L6-v2')\n",
    "        self.language_model = BaseLanguageModel()\n",
    "        self.memory = ConversationBufferMemory()\n",
    "        \n",
    "        # Compute product embeddings once\n",
    "        print(\"Computing product embeddings...\")\n",
    "        self.product_embeddings = self.embedding_model.encode(\n",
    "            (products_df['title'] + ' ' + products_df['description'].fillna('')).tolist()\n",
    "        )\n",
    "        print(\"Embeddings computed!\")\n",
    "\n",
    "    def process_query(self, query):\n",
    "        history = self.memory.load_memory_variables({})\n",
    "        \n",
    "        # Analysis prompt\n",
    "        analysis_prompt = f\"\"\"Analyze this query and conversation history:\n",
    "        History: {history.get('history', '')}\n",
    "        Current query: {query}\"\"\"\n",
    "                \n",
    "        # First, analyze the query and history\n",
    "        analyze_response = self.language_model.generate_response(\n",
    "            analysis_prompt,\n",
    "            functions=[{\n",
    "                \"name\": \"analyze_query\",\n",
    "                \"description\": \"Analyze the query type and extract customer ID if present\",\n",
    "                \"parameters\": {\n",
    "                    \"type\": \"object\",\n",
    "                    \"properties\": {\n",
    "                        \"query_type\": {\n",
    "                            \"type\": \"string\",\n",
    "                            \"enum\": [\"product\", \"order\"]\n",
    "                        },\n",
    "                        \"customer_id\": {\n",
    "                            \"type\": \"integer\",\n",
    "                            \"description\": \"Customer ID if mentioned in current query or found in conversation history\"\n",
    "                        }\n",
    "                    },\n",
    "                    \"required\": [\"query_type\"]\n",
    "                }\n",
    "            }]\n",
    "        )\n",
    "    \n",
    "        # Extract query type and customer ID\n",
    "        if 'function_call' in analyze_response['choices'][0]['message']:\n",
    "            analysis = json.loads(analyze_response['choices'][0]['message']['function_call']['arguments'])\n",
    "            query_type = analysis.get('query_type')\n",
    "            customer_id = analysis.get('customer_id')\n",
    "            \n",
    "            if query_type == \"order\" and not customer_id:\n",
    "                return \"Could you please provide your customer ID?\"\n",
    "            \n",
    "            # Get relevant information based on query type\n",
    "            if query_type == \"order\":\n",
    "                context = self._get_order_info(customer_id)\n",
    "            else:\n",
    "                # For mixed queries, include both product and order context if we have customer_id\n",
    "                context = self._get_product_info(query)\n",
    "                if customer_id:\n",
    "                    order_context = self._get_order_info(customer_id)\n",
    "                    if order_context:\n",
    "                        context += \"\\n\\nRelated Order Information:\\n\" + order_context\n",
    "        else:\n",
    "            context = self._get_product_info(query)\n",
    "    \n",
    "        # Final response prompt\n",
    "        response_prompt = f\"\"\"You are an e-commerce assistant. Use this information to respond:\n",
    "        \n",
    "        Context: {context}\n",
    "        History: {history.get('history', '')}\n",
    "        Query: {query}\n",
    "        \n",
    "        If this is an order query and you have customer information, make sure to mention the customer ID in your response.\n",
    "        When suggesting products, always include all available information including ratings and prices.\n",
    "        If referring to orders, include all order details available in the context.\"\"\"\n",
    "    \n",
    "        response = self.language_model.generate_response(response_prompt)\n",
    "        if isinstance(response, dict) and 'choices' in response:\n",
    "            response = response['choices'][0]['message']['content']\n",
    "            \n",
    "        self.memory.save_context({\"input\": query}, {\"output\": response})\n",
    "        return response\n",
    "    def _get_product_info(self, query):\n",
    "        query_embedding = self.embedding_model.encode([query])\n",
    "        similarities = cosine_similarity(query_embedding, self.product_embeddings)[0]\n",
    "        top_indices = similarities.argsort()[-3:][::-1]\n",
    "        \n",
    "        results = []\n",
    "        for idx in top_indices:\n",
    "            product = self.products_df.iloc[idx]\n",
    "            results.append(f\"\"\"\n",
    "            Product: {product['title']}\n",
    "            Price: ${product['price']}\n",
    "            Rating: {product['average_rating']} stars\n",
    "            Description: {product['description']}\n",
    "            \"\"\")\n",
    "        return \"\\n\".join(results)\n",
    "\n",
    "    def _get_order_info(self, customer_id):\n",
    "        try:\n",
    "            response = requests.get(f\"http://127.0.0.1:8000/data/customer/{customer_id}\")\n",
    "            orders = response.json()\n",
    "            if isinstance(orders, list):\n",
    "                formatted_orders = []\n",
    "                for order in orders:\n",
    "                    formatted_orders.append(f\"\"\"\n",
    "                    Order Date: {order['Order_Date']}\n",
    "                    Product Category: {order['Product_Category']}\n",
    "                    Sales Amount: ${order['Sales']}\n",
    "                    Shipping Cost: ${order['Shipping_Cost']}\n",
    "                    Status: {order['Order_Priority']}\n",
    "                    Customer ID: {customer_id}\n",
    "                    Product: {order['Product']}\n",
    "                    \"\"\")\n",
    "                return \"Customer Orders:\\n\" + \"\\n\".join(formatted_orders)\n",
    "            return \"No orders found\"\n",
    "        except Exception as e:\n",
    "            return f\"Error fetching orders: {str(e)}\""
   ]
  },
  {
   "cell_type": "code",
   "execution_count": 78,
   "metadata": {},
   "outputs": [
    {
     "name": "stdout",
     "output_type": "stream",
     "text": [
      "Computing product embeddings...\n",
      "Embeddings computed!\n"
     ]
    }
   ],
   "source": [
    "bot = EcommerceBot(products_df, orders_df)"
   ]
  },
  {
   "cell_type": "code",
   "execution_count": 59,
   "metadata": {},
   "outputs": [],
   "source": [
    "def view_memory(bot):\n",
    "    print(\"\\nConversation History:\")\n",
    "    print(\"-\" * 50)\n",
    "    print(bot.memory.load_memory_variables({}).get('history', 'No history'))\n",
    "    print(\"-\" * 50)\n",
    "\n",
    "def clear_memory(bot):\n",
    "    bot.memory.clear()\n",
    "    print(\"Memory cleared!\")"
   ]
  },
  {
   "cell_type": "code",
   "execution_count": 85,
   "metadata": {},
   "outputs": [
    {
     "name": "stdout",
     "output_type": "stream",
     "text": [
      "Memory cleared!\n"
     ]
    }
   ],
   "source": [
    "clear_memory(bot)"
   ]
  },
  {
   "cell_type": "code",
   "execution_count": null,
   "metadata": {},
   "outputs": [],
   "source": [
    "# Test sequence 1 - Product queries\n",
    "print(\"Query 1: Product Search\")\n",
    "print(bot.process_query(\"What are some good guitar strings for beginners?\"))\n",
    "print(\"\\nChecking Memory After Query 1:\")"
   ]
  },
  {
   "cell_type": "code",
   "execution_count": null,
   "metadata": {},
   "outputs": [],
   "source": [
    "# Test sequence 2 - Order queries\n",
    "print(bot.process_query(\"I want to check my order status\"))  # Should ask for ID\n",
    "print(bot.process_query(\"My customer ID is 37077\"))  # Should show order\n",
    "print(bot.process_query(\"Do I have any other orders?\"))  # Should remember ID\n"
   ]
  },
  {
   "cell_type": "code",
   "execution_count": 80,
   "metadata": {},
   "outputs": [
    {
     "name": "stdout",
     "output_type": "stream",
     "text": [
      "Hello Customer 37077! Thank you for reaching out. Here are the details of your order:\n",
      "\n",
      "- **Order Date:** January 2, 2018\n",
      "- **Product Category:** Auto & Accessories\n",
      "- **Product:** Car Media Players\n",
      "- **Sales Amount:** $140.00\n",
      "- **Shipping Cost:** $4.60\n",
      "- **Status:** Medium\n",
      "\n",
      "If you have any further questions about this order or need assistance with anything else, feel free to ask!\n",
      "Hello Customer 37077! Thank you for your inquiry. While it appears that your previous order was for car media players, I can certainly help you find guitar strings available in our catalog. Here are some options:\n",
      "\n",
      "1. **Martin Authentic Acoustic Guitar Strings - 3 Pack**\n",
      "   - **Price:** $17.98\n",
      "   - **Rating:** 4.7 stars\n",
      "   - **Description:** []\n",
      "\n",
      "2. **Martin M130 80-20 Silk & Steel Strings Acoustic Guitar Frets**\n",
      "   - **Price:** $13.87\n",
      "   - **Rating:** 4.5 stars\n",
      "   - **Description:** Martin Strings are high quality strings for daily use. Core and wrap wires must meet strict requirements in order to make the grade. Martin Strings are wound to precise specifications.\n",
      "\n",
      "3. **Ernie Ball Nickel Plain Single Guitar String .009 6-Pack**\n",
      "   - **Price:** $8.78\n",
      "   - **Rating:** 4.7 stars\n",
      "   - **Description:** For electric and acoustic guitars, banjos, and mandolins. Specially tempered tin plated high carbon steel prevents string breakage, string slippage, and keeps your strings in tune. Length: 39.5\".\n",
      "\n",
      "If you would like to purchase any of these products or have any further questions, please let me know!\n"
     ]
    }
   ],
   "source": [
    "# Test sequence 3 - Mixed queries\n",
    "print(bot.process_query(\"Customer 37077 here, what's my order status?\"))  # Direct ID mention\n",
    "print(bot.process_query(\"Do you have any guitar strings similar to what I ordered?\"))  # Should use both contexts"
   ]
  },
  {
   "cell_type": "code",
   "execution_count": 79,
   "metadata": {},
   "outputs": [
    {
     "name": "stdout",
     "output_type": "stream",
     "text": [
      "Could you please provide your customer ID?\n",
      "Thank you for reaching out! Based on your Customer ID 53639, here are the details of your order:\n",
      "\n",
      "- **Order Date:** August 13, 2018\n",
      "- **Product Category:** Auto & Accessories\n",
      "- **Product:** Tyre\n",
      "- **Sales Amount:** $250.00\n",
      "- **Shipping Cost:** $16.00\n",
      "- **Status:** Critical\n",
      "\n",
      "If you need further assistance regarding this order or if you're looking for additional products, feel free to let me know!\n"
     ]
    }
   ],
   "source": [
    "# Test sequence 4\n",
    "print(bot.process_query(\"What is the status of my cell-phone order?\"))\n",
    "print(bot.process_query(\"My Customer ID is 53639\")) "
   ]
  },
  {
   "cell_type": "code",
   "execution_count": 86,
   "metadata": {},
   "outputs": [
    {
     "name": "stdout",
     "output_type": "stream",
     "text": [
      "Could you please provide your customer ID?\n",
      "Thank you for your query, Customer ID: 27394. Here are your order details:\n",
      "\n",
      "1. **Order Date:** April 3, 2018  \n",
      "   **Product:** Car Speakers  \n",
      "   **Product Category:** Auto & Accessories  \n",
      "   **Sales Amount:** $211.00  \n",
      "   **Shipping Cost:** $11.00  \n",
      "   **Status:** Critical  \n",
      "\n",
      "2. **Order Date:** June 30, 2018  \n",
      "   **Product:** Car Pillow & Neck Rest  \n",
      "   **Product Category:** Auto & Accessories  \n",
      "   **Sales Amount:** $231.00  \n",
      "   **Shipping Cost:** $14.60  \n",
      "   **Status:** Critical  \n",
      "\n",
      "If you need further assistance or if you're interested in additional products in the Auto & Accessories category, please let me know!\n"
     ]
    }
   ],
   "source": [
    "print(bot.process_query(\"Fetch 5 most recent high-priority orders\"))\n",
    "print(bot.process_query(\"27394\"))\n"
   ]
  },
  {
   "cell_type": "code",
   "execution_count": null,
   "metadata": {},
   "outputs": [],
   "source": []
  },
  {
   "cell_type": "code",
   "execution_count": null,
   "metadata": {},
   "outputs": [],
   "source": []
  },
  {
   "cell_type": "code",
   "execution_count": null,
   "metadata": {},
   "outputs": [],
   "source": []
  },
  {
   "cell_type": "code",
   "execution_count": null,
   "metadata": {},
   "outputs": [],
   "source": []
  },
  {
   "cell_type": "code",
   "execution_count": null,
   "metadata": {},
   "outputs": [],
   "source": []
  }
 ],
 "metadata": {
  "kernelspec": {
   "display_name": "Python 3 (ipykernel)",
   "language": "python",
   "name": "python3"
  },
  "language_info": {
   "codemirror_mode": {
    "name": "ipython",
    "version": 3
   },
   "file_extension": ".py",
   "mimetype": "text/x-python",
   "name": "python",
   "nbconvert_exporter": "python",
   "pygments_lexer": "ipython3",
   "version": "3.10.0"
  }
 },
 "nbformat": 4,
 "nbformat_minor": 4
}
